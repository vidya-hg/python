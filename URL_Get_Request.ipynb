{
  "nbformat": 4,
  "nbformat_minor": 0,
  "metadata": {
    "colab": {
      "name": "GetRequestWithParameters2.ipynb",
      "provenance": [],
      "collapsed_sections": [],
      "include_colab_link": true
    },
    "kernelspec": {
      "name": "python3",
      "display_name": "Python 3"
    }
  },
  "cells": [
    {
      "cell_type": "markdown",
      "metadata": {
        "id": "view-in-github",
        "colab_type": "text"
      },
      "source": [
        "<a href=\"https://colab.research.google.com/github/vidya-hg/python/blob/master/URL_Get_Request.ipynb\" target=\"_parent\"><img src=\"https://colab.research.google.com/assets/colab-badge.svg\" alt=\"Open In Colab\"/></a>"
      ]
    },
    {
      "cell_type": "code",
      "metadata": {
        "id": "Fa9NLe0zo-2_",
        "colab_type": "code",
        "colab": {
          "base_uri": "https://localhost:8080/",
          "height": 34
        },
        "outputId": "0c3ad2ab-8072-4502-d06a-2536a0f5abc6"
      },
      "source": [
        "import requests\n",
        "import webbrowser\n",
        "search_term = input(\"Enter the term you need to search:\")"
      ],
      "execution_count": 9,
      "outputs": [
        {
          "output_type": "stream",
          "text": [
            "Enter the term you need to search:skillsoft\n"
          ],
          "name": "stdout"
        }
      ]
    },
    {
      "cell_type": "code",
      "metadata": {
        "id": "yIVb6togTfdA",
        "colab_type": "code",
        "colab": {}
      },
      "source": [
        "URL =   'https://www.wikipedia.org/wiki/'\n",
        "PARAMS = {'q' : search_term}\n"
      ],
      "execution_count": 0,
      "outputs": []
    },
    {
      "cell_type": "code",
      "metadata": {
        "id": "7k-b6_fVUC1g",
        "colab_type": "code",
        "colab": {
          "base_uri": "https://localhost:8080/",
          "height": 68
        },
        "outputId": "f8104c71-ccf8-47a6-e731-b0b550ee5bd9"
      },
      "source": [
        "r_get = requests.get(url= URL+search_term, params=None)\n",
        "print(r_get.status_code)\n",
        "print(r_get.url)\n",
        "webbrowser.open(r_get.url)"
      ],
      "execution_count": 22,
      "outputs": [
        {
          "output_type": "stream",
          "text": [
            "200\n",
            "https://en.wikipedia.org/wiki/Skillsoft\n"
          ],
          "name": "stdout"
        },
        {
          "output_type": "execute_result",
          "data": {
            "text/plain": [
              "False"
            ]
          },
          "metadata": {
            "tags": []
          },
          "execution_count": 22
        }
      ]
    }
  ]
}